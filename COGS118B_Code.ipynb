{
 "cells": [
  {
   "cell_type": "markdown",
   "id": "acf5de51",
   "metadata": {},
   "source": [
    "# Dimensionality Reduction Using K-Means and PCA"
   ]
  },
  {
   "cell_type": "markdown",
   "id": "27e049c3",
   "metadata": {},
   "source": [
    "## Armaan Johal & Aidan Truel"
   ]
  },
  {
   "cell_type": "code",
   "execution_count": 49,
   "id": "3ac3ac64",
   "metadata": {},
   "outputs": [],
   "source": [
    "import numpy as np\n",
    "from matplotlib import pyplot as plt\n",
    "from sklearn.datasets import fetch_openml\n",
    "from sklearn.cluster import KMeans\n",
    "from sklearn.mixture import GaussianMixture\n",
    "from sklearn.cluster import SpectralClustering\n",
    "from sklearn.neighbors import KNeighborsClassifier\n",
    "from sklearn.metrics import confusion_matrix, ConfusionMatrixDisplay\n",
    "%matplotlib inline \n",
    "from matplotlib import pyplot as plt\n",
    "from matplotlib.image import imread\n",
    "from PIL import Image as im\n",
    "import pandas as pd\n",
    "from sklearn.decomposition import PCA\n",
    "from sklearn.decomposition import KernelPCA"
   ]
  },
  {
   "cell_type": "code",
   "execution_count": 50,
   "id": "9e25ab8c",
   "metadata": {},
   "outputs": [
    {
     "name": "stdout",
     "output_type": "stream",
     "text": [
      "X shape: (70000, 784) y shape: (70000,)\n"
     ]
    }
   ],
   "source": [
    "X, y = fetch_openml('mnist_784', version=1, return_X_y=True) # getting data from online\n",
    "print('X shape:', X.shape, 'y shape:', y.shape)\n",
    "X = X.to_numpy()"
   ]
  },
  {
   "cell_type": "code",
   "execution_count": 51,
   "id": "799d3d7c",
   "metadata": {},
   "outputs": [
    {
     "name": "stdout",
     "output_type": "stream",
     "text": [
      "Shape of data with label 0 : (6903, 28, 28)\n",
      "Shape of data with label 1 : (7877, 28, 28)\n",
      "Shape of data with label 2 : (6990, 28, 28)\n",
      "Shape of data with label 3 : (7141, 28, 28)\n",
      "Shape of data with label 4 : (6824, 28, 28)\n",
      "Shape of data with label 5 : (6313, 28, 28)\n",
      "Shape of data with label 6 : (6876, 28, 28)\n",
      "Shape of data with label 7 : (7293, 28, 28)\n",
      "Shape of data with label 8 : (6825, 28, 28)\n",
      "Shape of data with label 9 : (6958, 28, 28)\n"
     ]
    }
   ],
   "source": [
    "digits = {j:[] for j in range(10)}\n",
    "for j in range(len(y)): # takes data assigns it into a dictionary\n",
    "    digits[int(y[j])].append(X[j].reshape(28,28))\n",
    "digits = {j:np.stack(digits[j]) for j in range(10)} # stack everything to be one numpy array\n",
    "for j in range(10):\n",
    "    print('Shape of data with label', j, ':', digits[j].shape)"
   ]
  },
  {
   "cell_type": "code",
   "execution_count": 52,
   "id": "37d07cf6",
   "metadata": {},
   "outputs": [],
   "source": [
    "def reduce_dim(data, dims, method): \n",
    "    if method=='none':\n",
    "        return data\n",
    "    elif method=='kmeans':\n",
    "        model = KMeans(dims).fit(data)\n",
    "        centers = model.cluster_centers_\n",
    "    elif method=='mixture':\n",
    "        model = GaussianMixture(n_components=dims).fit(data)\n",
    "        centers = model.means_\n",
    "    reduced_data = np.zeros((data.shape[0],dims))\n",
    "    for i, img in enumerate(data):\n",
    "        reduced_img = np.zeros((dims))\n",
    "        for d,center in enumerate(centers):\n",
    "            reduced_img[d] = np.linalg.norm(img-center)\n",
    "        reduced_data[i] = reduced_img\n",
    "    return reduced_data"
   ]
  },
  {
   "cell_type": "code",
   "execution_count": 53,
   "id": "e0cffec0",
   "metadata": {},
   "outputs": [],
   "source": [
    "# add size parameter?\n",
    "def output_data(num1, num2, dims, method='kmeans', size=1000, split=0.5):\n",
    "    # gathers training and testing data for num1 & num2 type data\n",
    "    trainSize = int(size * split)\n",
    "    testSize = size - trainSize\n",
    "    x_train = np.concatenate([digits[num1][:trainSize].reshape(trainSize,28*28),\n",
    "                            digits[num2][:trainSize].reshape(trainSize,28*28)])\n",
    "    x_train = reduce_dim(x_train, dims, method)\n",
    "    y_train = np.concatenate([np.ones(trainSize), -1*np.ones(trainSize)]).reshape(2*trainSize,)\n",
    "    x_test = np.concatenate([digits[num1][trainSize:size].reshape(testSize,28*28),\n",
    "                            digits[num2][trainSize:size].reshape(testSize,28*28)])\n",
    "    x_test = reduce_dim(x_test, dims, method)\n",
    "    max_val = np.max(x_train)\n",
    "    y_test = np.concatenate([np.ones(testSize), -1*np.ones(testSize)]).reshape(2*testSize,)\n",
    "    return x_train/max_val, y_train, x_test/max_val, y_test"
   ]
  },
  {
   "cell_type": "code",
   "execution_count": 54,
   "id": "8d92a3ca",
   "metadata": {},
   "outputs": [],
   "source": [
    "def output_all_data(dims, method='kmeans', size=1000, split=0.5):\n",
    "    # gathers training and testing data for num1 & num2 type data\n",
    "    trainSize = int(size * split)\n",
    "    testSize = size - trainSize\n",
    "    x_train = np.zeros((10*trainSize,28*28))\n",
    "    for i in range(10):\n",
    "        i_digits = digits[i][:trainSize].reshape(trainSize,28*28)\n",
    "        x_train[trainSize*i:trainSize*(i+1)] = i_digits\n",
    "    x_train = reduce_dim(x_train, dims, method)\n",
    "    y_train = np.concatenate([np.full(trainSize,0), np.full(trainSize,1),\n",
    "              np.full(trainSize,2),np.full(trainSize,3),np.full(trainSize,4),\n",
    "              np.full(trainSize,5),np.full(trainSize,6),np.full(trainSize,7),\n",
    "              np.full(trainSize,8),np.full(trainSize,9)]).reshape(10*trainSize,)\n",
    "    x_test = np.zeros((10*testSize,28*28))\n",
    "    for i in range(10):\n",
    "        i_digits = digits[i][trainSize:size].reshape(testSize,28*28)\n",
    "        x_test[testSize*i:testSize*(i+1)] = i_digits\n",
    "    x_test = reduce_dim(x_test, dims, method)\n",
    "    max_val = np.max(x_train)\n",
    "    y_test = np.concatenate([np.full(testSize,0), np.full(testSize,1),\n",
    "              np.full(testSize,2),np.full(testSize,3),np.full(testSize,4),\n",
    "              np.full(testSize,5),np.full(testSize,6),np.full(testSize,7),\n",
    "              np.full(testSize,8),np.full(testSize,9)]).reshape(10*testSize,)\n",
    "    return x_train/max_val, y_train, x_test/max_val, y_test"
   ]
  },
  {
   "cell_type": "code",
   "execution_count": 55,
   "id": "985d871a",
   "metadata": {},
   "outputs": [],
   "source": [
    "def KNNclassifier(trainX, trainY, n_neighbors):\n",
    "    ''' Return a KNN model by fitting training data (trainX, trainY)\n",
    "    Args:\n",
    "        trainX: a (# of images, nCluster) array of features for training data\n",
    "        trainY: a (# of images) array of class label for training data\n",
    "        n_neighbors: # of neighbors used in KNN classifier\n",
    "    Return:\n",
    "        model: KNN classifier model\n",
    "    '''\n",
    "    model = KNeighborsClassifier(n_neighbors=n_neighbors).fit(trainX, trainY)\n",
    "    return model\n",
    "\n",
    "def getAccuracy(testX, testY, model):\n",
    "    ''' Output the testing accuracy for KNN classifier model \n",
    "    Args:\n",
    "        testX: a (# of images, nCluster) array of features for testing data\n",
    "        testY: a (# of images) array of class label for testing data\n",
    "        model: KNN classifier model\n",
    "    Return:\n",
    "        accu: accuracy of classification prediction on testing data\n",
    "    '''\n",
    "    accu = model.score(testX, testY)\n",
    "    return accu"
   ]
  },
  {
   "cell_type": "markdown",
   "id": "caaf92df",
   "metadata": {},
   "source": [
    "## K-means Dimensionality Reduction for MNIST Dataset"
   ]
  },
  {
   "cell_type": "code",
   "execution_count": 56,
   "id": "d946e6b3",
   "metadata": {},
   "outputs": [],
   "source": [
    "num1 = 0\n",
    "num2 = 1\n",
    "n_neighbors = 5\n",
    "clusters = 2"
   ]
  },
  {
   "cell_type": "code",
   "execution_count": 57,
   "id": "b1361433",
   "metadata": {},
   "outputs": [
    {
     "name": "stdout",
     "output_type": "stream",
     "text": [
      "0.99375\n"
     ]
    }
   ],
   "source": [
    "trainX, trainY, testX, testY = output_data(num1,num2,clusters, size=2000, split=0.8)\n",
    "model = KNNclassifier(trainX, trainY, n_neighbors)\n",
    "accu = getAccuracy(testX, testY, model)\n",
    "print(accu)"
   ]
  },
  {
   "cell_type": "code",
   "execution_count": 58,
   "id": "4bf14d58",
   "metadata": {},
   "outputs": [
    {
     "data": {
      "image/png": "[encoded data removed]",
      "text/plain": [
       "<Figure size 432x288 with 2 Axes>"
      ]
     },
     "metadata": {
      "needs_background": "light"
     },
     "output_type": "display_data"
    }
   ],
   "source": [
    "predY = model.predict(testX)\n",
    "labels = [1,-1]\n",
    "display_labels = [num1,num2]\n",
    "cm = confusion_matrix(testY, predY, labels=labels)\n",
    "disp = ConfusionMatrixDisplay(cm, display_labels=display_labels)\n",
    "disp.plot()\n",
    "plt.show()"
   ]
  },
  {
   "cell_type": "code",
   "execution_count": 59,
   "id": "e66ad424",
   "metadata": {},
   "outputs": [
    {
     "data": {
      "text/plain": [
       "[<matplotlib.lines.Line2D at 0x1436ae040>]"
      ]
     },
     "execution_count": 59,
     "metadata": {},
     "output_type": "execute_result"
    },
    {
     "data": {
      "image/png": "[encoded data removed]",
      "text/plain": [
       "<Figure size 432x288 with 1 Axes>"
      ]
     },
     "metadata": {
      "needs_background": "light"
     },
     "output_type": "display_data"
    }
   ],
   "source": [
    "num1 = 0\n",
    "num2 = 1\n",
    "dim_vals = np.arange(1,20,1)\n",
    "accu_vals = []\n",
    "for i in dim_vals:\n",
    "    dims = i\n",
    "    trainX, trainY, testX, testY = output_data(num1,num2,dims)\n",
    "    model = KNNclassifier(trainX, trainY, n_neighbors)\n",
    "    accu = getAccuracy(testX, testY, model)\n",
    "    accu_vals.append(accu)\n",
    "plt.plot(dim_vals, accu_vals)"
   ]
  },
  {
   "cell_type": "code",
   "execution_count": 60,
   "id": "b2acc3ae",
   "metadata": {},
   "outputs": [
    {
     "data": {
      "text/plain": [
       "[<matplotlib.lines.Line2D at 0x14432bdf0>]"
      ]
     },
     "execution_count": 60,
     "metadata": {},
     "output_type": "execute_result"
    },
    {
     "data": {
      "image/png": "[encoded data removed]",
      "text/plain": [
       "<Figure size 432x288 with 1 Axes>"
      ]
     },
     "metadata": {
      "needs_background": "light"
     },
     "output_type": "display_data"
    }
   ],
   "source": [
    "dim_vals = np.arange(1,20,1)\n",
    "accu_vals = []\n",
    "for i in dim_vals:\n",
    "    dims = i\n",
    "    trainX, trainY, testX, testY = output_all_data(dims)\n",
    "    model = KNNclassifier(trainX, trainY, n_neighbors)\n",
    "    accu = getAccuracy(testX, testY, model)\n",
    "    accu_vals.append(accu)\n",
    "plt.plot(dim_vals, accu_vals)"
   ]
  },
  {
   "cell_type": "code",
   "execution_count": 61,
   "id": "0cc363a4",
   "metadata": {},
   "outputs": [
    {
     "name": "stdout",
     "output_type": "stream",
     "text": [
      "0.951\n"
     ]
    }
   ],
   "source": [
    "n_neighbors = 5\n",
    "dims = 10\n",
    "size = 2000\n",
    "split = 0.8\n",
    "trainX, trainY, testX, testY = output_all_data(dims, method='none', size=size, split=split)\n",
    "model = KNNclassifier(trainX, trainY, n_neighbors)\n",
    "accu = getAccuracy(testX, testY, model)\n",
    "print(accu)"
   ]
  },
  {
   "cell_type": "code",
   "execution_count": 62,
   "id": "8c7e5fe0",
   "metadata": {},
   "outputs": [
    {
     "data": {
      "image/png": "[encoded data removed]",
      "text/plain": [
       "<Figure size 432x288 with 2 Axes>"
      ]
     },
     "metadata": {
      "needs_background": "light"
     },
     "output_type": "display_data"
    }
   ],
   "source": [
    "predY = model.predict(testX)\n",
    "labels = np.arange(0,9,1)\n",
    "cm = confusion_matrix(testY, predY, labels=labels)\n",
    "disp = ConfusionMatrixDisplay(cm, display_labels=labels)\n",
    "disp.plot()\n",
    "plt.show()"
   ]
  },
  {
   "cell_type": "markdown",
   "id": "81527955",
   "metadata": {},
   "source": [
    "## PCR Dimensionality Reduction for MNIST Dataset"
   ]
  },
  {
   "cell_type": "code",
   "execution_count": 63,
   "id": "f0d0f1cd",
   "metadata": {},
   "outputs": [],
   "source": [
    "# add size parameter?\n",
    "def output_pca_data(num1, num2, num_components, size=1000, split=0.5, method='pca', kernel='linear'):\n",
    "    # gathers training and testing data for num1 & num2 type data\n",
    "    trainSize = int(size * split)\n",
    "    testSize = size - trainSize\n",
    "    x_train = np.concatenate([digits[num1][:trainSize].reshape(trainSize,28*28),\n",
    "                            digits[num2][:trainSize].reshape(trainSize,28*28)])\n",
    "    evr = 0\n",
    "    if method=='pca':\n",
    "        pca = PCA(num_components).fit(x_train)\n",
    "        evr = np.sum(pca.explained_variance_ratio_)\n",
    "    elif method=='kernelpca':\n",
    "        pca = KernelPCA(num_components, kernel=kernel).fit(x_train)\n",
    "    x_train = pca.transform(x_train)\n",
    "    y_train = np.concatenate([np.ones(trainSize), -1*np.ones(trainSize)]).reshape(2*trainSize,)\n",
    "    x_test = np.concatenate([digits[num1][trainSize:size].reshape(testSize,28*28),\n",
    "                            digits[num2][trainSize:size].reshape(testSize,28*28)])\n",
    "    x_test = pca.transform(x_test)\n",
    "    max_val = np.max(x_train)\n",
    "    y_test = np.concatenate([np.ones(testSize), -1*np.ones(testSize)]).reshape(2*testSize,)\n",
    "    return x_train/max_val, evr, y_train, x_test/max_val, y_test"
   ]
  },
  {
   "cell_type": "code",
   "execution_count": 64,
   "id": "fdbe47df",
   "metadata": {},
   "outputs": [],
   "source": [
    "def output_all_data(num_components, method='pca', kernel='linear', size=1000, split=0.5):\n",
    "    pca1evr = False\n",
    "    trainSize = int(size * split)\n",
    "    testSize = size - trainSize\n",
    "    x_train = np.zeros((10*trainSize,28*28))\n",
    "    for i in range(10):\n",
    "        i_digits = digits[i][:trainSize].reshape(trainSize,28*28)\n",
    "        x_train[trainSize*i:trainSize*(i+1)] = i_digits\n",
    "    evr = 0\n",
    "    if method=='pca':\n",
    "        pca = PCA(num_components).fit(x_train)\n",
    "        evr = np.sum(pca.explained_variance_ratio_)\n",
    "    elif method=='kernelpca':\n",
    "        pca = KernelPCA(num_components, kernel=kernel).fit(x_train)\n",
    "    x_train = pca.transform(x_train)\n",
    "    y_train = np.concatenate([np.full(trainSize,0), np.full(trainSize,1),\n",
    "              np.full(trainSize,2),np.full(trainSize,3),np.full(trainSize,4),\n",
    "              np.full(trainSize,5),np.full(trainSize,6),np.full(trainSize,7),\n",
    "              np.full(trainSize,8),np.full(trainSize,9)]).reshape(10*trainSize,)\n",
    "    x_test = np.zeros((10*testSize,28*28))\n",
    "    for i in range(10):\n",
    "        i_digits = digits[i][trainSize:size].reshape(testSize,28*28)\n",
    "        x_test[testSize*i:testSize*(i+1)] = i_digits\n",
    "    x_test = pca.transform(x_test)\n",
    "    max_val = np.max(x_train)\n",
    "    y_test = np.concatenate([np.full(testSize,0), np.full(testSize,1),\n",
    "              np.full(testSize,2),np.full(testSize,3),np.full(testSize,4),\n",
    "              np.full(testSize,5),np.full(testSize,6),np.full(testSize,7),\n",
    "              np.full(testSize,8),np.full(testSize,9)]).reshape(10*testSize,)\n",
    "    return x_train/max_val, evr, y_train, x_test/max_val, y_test"
   ]
  },
  {
   "cell_type": "code",
   "execution_count": 65,
   "id": "a699ab87",
   "metadata": {},
   "outputs": [],
   "source": [
    "num1 = 4\n",
    "num2 = 9\n",
    "n_neighbors = 5\n",
    "num_components = 5"
   ]
  },
  {
   "cell_type": "code",
   "execution_count": 66,
   "id": "f48ef749",
   "metadata": {},
   "outputs": [
    {
     "name": "stdout",
     "output_type": "stream",
     "text": [
      "Accuracy: \n",
      "0.852\n"
     ]
    }
   ],
   "source": [
    "trainX, evr1, trainY, testX, testY = output_pca_data(num1,num2,num_components,method='pca',size=1000,split=0.5)\n",
    "model = KNNclassifier(trainX, trainY, n_neighbors)\n",
    "accu = getAccuracy(testX, testY, model)\n",
    "print(\"Accuracy: \")\n",
    "print(accu)"
   ]
  },
  {
   "cell_type": "code",
   "execution_count": 67,
   "id": "7ed7cda3",
   "metadata": {},
   "outputs": [
    {
     "data": {
      "image/png": "[encoded data removed]",
      "text/plain": [
       "<Figure size 432x288 with 1 Axes>"
      ]
     },
     "metadata": {
      "needs_background": "light"
     },
     "output_type": "display_data"
    }
   ],
   "source": [
    "n_neighbors = 5\n",
    "comps = np.arange(1,20,1)\n",
    "evr_vals = []\n",
    "accu_vals = []\n",
    "for i in comps:\n",
    "    num_components = i\n",
    "    trainX, evr1, trainY, testX, testY = output_pca_data(num1,num2,num_components)\n",
    "    model = KNNclassifier(trainX, trainY, n_neighbors)\n",
    "    accu = getAccuracy(testX, testY, model)\n",
    "    evr_vals.append(evr1)\n",
    "    accu_vals.append(accu)\n",
    "plt.plot(comps, evr_vals, comps, accu_vals)\n",
    "plt.title(\"Two digit classification with PCA\")\n",
    "plt.legend([\"Explained Variance Ratio\", \"Accuracy\"])\n",
    "plt.xlabel('Number of principal components')\n",
    "plt.show()"
   ]
  },
  {
   "cell_type": "code",
   "execution_count": 68,
   "id": "3beae676",
   "metadata": {},
   "outputs": [
    {
     "data": {
      "image/png": "[encoded data removed]",
      "text/plain": [
       "<Figure size 432x288 with 1 Axes>"
      ]
     },
     "metadata": {
      "needs_background": "light"
     },
     "output_type": "display_data"
    }
   ],
   "source": [
    "n_neighbors = 5\n",
    "comps = np.arange(1,20,1)\n",
    "evr_vals = []\n",
    "accu_vals = []\n",
    "for i in comps:\n",
    "    num_components = i\n",
    "    trainX, evr1, trainY, testX, testY = output_all_data(num_components)\n",
    "    model = KNNclassifier(trainX, trainY, n_neighbors)\n",
    "    accu = getAccuracy(testX, testY, model)\n",
    "    evr_vals.append(evr1)\n",
    "    accu_vals.append(accu)\n",
    "plt.plot(comps, evr_vals, comps, accu_vals)\n",
    "plt.title(\"10 digit classification with PCA\")\n",
    "plt.legend([\"Explained Variance Ratio\", \"Accuracy\"])\n",
    "plt.xlabel('Number of principal components')\n",
    "plt.show()"
   ]
  },
  {
   "cell_type": "code",
   "execution_count": 69,
   "id": "7632b27b",
   "metadata": {},
   "outputs": [
    {
     "name": "stdout",
     "output_type": "stream",
     "text": [
      "Accuracy: \n",
      "0.9545\n"
     ]
    }
   ],
   "source": [
    "# Do not run with kernelpca\n",
    "num_components = 20\n",
    "n_neighbors = 5\n",
    "method = 'pca' #Don't change this\n",
    "trainX, evr1, trainY, testX, testY = output_all_data(num_components,method=method,size=2000,split=0.8)\n",
    "model = KNNclassifier(trainX, trainY, n_neighbors)\n",
    "accu = getAccuracy(testX, testY, model)\n",
    "print(\"Accuracy: \")\n",
    "print(accu)"
   ]
  },
  {
   "cell_type": "code",
   "execution_count": 70,
   "id": "e4364e70",
   "metadata": {},
   "outputs": [
    {
     "data": {
      "image/png": "[encoded data removed]",
      "text/plain": [
       "<Figure size 432x288 with 2 Axes>"
      ]
     },
     "metadata": {
      "needs_background": "light"
     },
     "output_type": "display_data"
    }
   ],
   "source": [
    "predY = model.predict(testX)\n",
    "labels = np.arange(0,9,1)\n",
    "cm = confusion_matrix(testY, predY, labels=labels)\n",
    "disp = ConfusionMatrixDisplay(cm, display_labels=labels)\n",
    "disp.plot()\n",
    "plt.show()"
   ]
  },
  {
   "cell_type": "code",
   "execution_count": null,
   "id": "37741d6b",
   "metadata": {},
   "outputs": [],
   "source": []
  },
  {
   "cell_type": "code",
   "execution_count": null,
   "id": "2e36400a",
   "metadata": {},
   "outputs": [],
   "source": []
  },
  {
   "cell_type": "code",
   "execution_count": null,
   "id": "858f83a6",
   "metadata": {},
   "outputs": [],
   "source": []
  },
  {
   "cell_type": "code",
   "execution_count": null,
   "id": "92dc5e40",
   "metadata": {},
   "outputs": [],
   "source": []
  },
  {
   "cell_type": "code",
   "execution_count": null,
   "id": "4166f930",
   "metadata": {},
   "outputs": [],
   "source": []
  },
  {
   "cell_type": "code",
   "execution_count": null,
   "id": "ffd4dcf2",
   "metadata": {},
   "outputs": [],
   "source": []
  },
  {
   "cell_type": "markdown",
   "id": "f34c0086",
   "metadata": {},
   "source": [
    "## K-Means Dimensionality Reduction on Retinal Scans"
   ]
  },
  {
   "cell_type": "code",
   "execution_count": 6,
   "id": "4121c401",
   "metadata": {},
   "outputs": [
    {
     "name": "stdout",
     "output_type": "stream",
     "text": [
      "0047\n",
      "0108\n",
      "0109\n",
      "0144\n",
      "0167\n",
      "(397, 423500)\n"
     ]
    }
   ],
   "source": [
    "X = np.zeros(shape=(402,423500))\n",
    "for i in range (1,403):\n",
    "    try:\n",
    "        num = str(i).zfill(4)\n",
    "        img = imread('./COGS118B_FinalProject/all-images/im' + num + '.ppm')\n",
    "        #plt.imshow(img)\n",
    "        norm_img = np.dot(img[...,:3], [0.2989, 0.5870, 0.1140])\n",
    "        norm_img_flattened = norm_img.flatten()\n",
    "        X[i-1] = norm_img_flattened\n",
    "        #plt.imshow(grey)\n",
    "    except:\n",
    "        print(num)\n",
    "        continue\n",
    "X = np.delete(X, (46), axis=0)\n",
    "X = np.delete(X, (106), axis=0)\n",
    "X = np.delete(X, (106), axis=0)\n",
    "X = np.delete(X, (140), axis=0)\n",
    "X = np.delete(X, (162), axis=0)\n",
    "print(X.shape)"
   ]
  },
  {
   "cell_type": "code",
   "execution_count": 7,
   "id": "c5a0d069",
   "metadata": {},
   "outputs": [
    {
     "name": "stdout",
     "output_type": "stream",
     "text": [
      "(397,)\n"
     ]
    }
   ],
   "source": [
    "with open('./COGS118B_FinalProject/all-mg-codes.txt') as f:\n",
    "    lines = f.readlines()\n",
    "y = np.zeros(402)\n",
    "for i in range(len(lines)):\n",
    "    l = lines[i].split('\\t')\n",
    "    #img_name = l[0].lstrip('im')\n",
    "    img_code = l[1].split(' ')[0]\n",
    "    y[i] = img_code\n",
    "y = np.delete(y, (46), axis=0)\n",
    "y = np.delete(y, (106), axis=0)\n",
    "y = np.delete(y, (106), axis=0)\n",
    "y = np.delete(y, (140), axis=0)\n",
    "y = np.delete(y, (162), axis=0)\n",
    "print(y.shape)"
   ]
  },
  {
   "cell_type": "code",
   "execution_count": 208,
   "id": "7d558bba",
   "metadata": {},
   "outputs": [
    {
     "name": "stdout",
     "output_type": "stream",
     "text": [
      "Shape of data with label 0 : (39, 605, 700)\n",
      "Shape of data with label 1 : (5, 605, 700)\n",
      "Shape of data with label 2 : (7, 605, 700)\n",
      "Shape of data with label 3 : (6, 605, 700)\n",
      "Shape of data with label 4 : (11, 605, 700)\n",
      "Shape of data with label 5 : (23, 605, 700)\n",
      "Shape of data with label 6 : (12, 605, 700)\n",
      "Shape of data with label 7 : (67, 605, 700)\n",
      "Shape of data with label 8 : (23, 605, 700)\n",
      "Shape of data with label 9 : (5, 605, 700)\n",
      "Shape of data with label 10 : (16, 605, 700)\n",
      "Shape of data with label 11 : (14, 605, 700)\n",
      "Shape of data with label 12 : (8, 605, 700)\n",
      "Shape of data with label 13 : (61, 605, 700)\n",
      "Shape of data with label 14 : (100, 605, 700)\n"
     ]
    }
   ],
   "source": [
    "classes = {j:[] for j in range(15)}\n",
    "\n",
    "for j in range(len(y)): # takes data assigns it into a dictionary\n",
    "    classes[int(y[j])].append(X[j].reshape(605,700))\n",
    "classes = {j:np.stack(classes[j]) for j in range(15)} # stack everything to be one numpy array\n",
    "#classes = {j:np.stack(classes[j]) for j in [0,5,7,8,13,14]}\n",
    "for j in range(15):\n",
    "#for j in [0,5,7,8,13,14]:\n",
    "    print('Shape of data with label', j, ':', classes[j].shape)"
   ]
  },
  {
   "cell_type": "code",
   "execution_count": null,
   "id": "51394d5b",
   "metadata": {},
   "outputs": [],
   "source": []
  },
  {
   "cell_type": "code",
   "execution_count": 182,
   "id": "1841916a",
   "metadata": {},
   "outputs": [],
   "source": [
    "def output_data(num1, num2, dims, method='kmeans', size=60, split=0.7):\n",
    "    # gathers training and testing data for num1 & num2 type data\n",
    "    trainSize = int(size * split)\n",
    "    testSize = size - trainSize\n",
    "    x_train = np.concatenate([classes[num1][:trainSize].reshape(trainSize,605*700),\n",
    "                            classes[num2][:trainSize].reshape(trainSize,605*700)])\n",
    "    x_train = reduce_dim(x_train, dims, method)\n",
    "    y_train = np.concatenate([np.ones(trainSize), -1*np.ones(trainSize)]).reshape(2*trainSize,)\n",
    "    x_test = np.concatenate([classes[num1][trainSize:size].reshape(testSize,605*700),\n",
    "                            classes[num2][trainSize:size].reshape(testSize,605*700)])\n",
    "    x_test = reduce_dim(x_test, dims, method)\n",
    "    max_val = np.max(x_train)\n",
    "    y_test = np.concatenate([np.ones(testSize), -1*np.ones(testSize)]).reshape(2*testSize,)\n",
    "    return x_train/max_val, y_train, x_test/max_val, y_test"
   ]
  },
  {
   "cell_type": "code",
   "execution_count": 193,
   "id": "2a02ddcb",
   "metadata": {},
   "outputs": [],
   "source": [
    "def output_all_data(dims, method='kmeans', size=60, split=0.7):\n",
    "    # gathers training and testing data for num1 & num2 type data\n",
    "    trainSize = int(size * split)\n",
    "    testSize = size - trainSize\n",
    "    x_train = np.zeros((15*trainSize,605*700))\n",
    "    for i in range(15):\n",
    "        i_classes = classes[i][:trainSize].reshape(trainSize,605*700)\n",
    "        x_train[trainSize*i:trainSize*(i+1)] = i_classes\n",
    "    x_train = reduce_dim(x_train, dims, method)\n",
    "    y_train = np.concatenate([np.full(trainSize,0), np.full(trainSize,1),\n",
    "              np.full(trainSize,2),np.full(trainSize,3),np.full(trainSize,4),\n",
    "              np.full(trainSize,5),np.full(trainSize,6),np.full(trainSize,7),\n",
    "              np.full(trainSize,8),np.full(trainSize,9),np.full(trainSize,10),np.full(trainSize,11),\n",
    "              np.full(trainSize,12),np.full(trainSize,13),np.full(trainSize,14)]).reshape(15*trainSize,)\n",
    "    x_test = np.zeros((15*testSize,605*700))\n",
    "    for i in range(15):\n",
    "        i_classes = classes[i][trainSize:size].reshape(testSize,605*700)\n",
    "        x_test[testSize*i:testSize*(i+1)] = i_classes\n",
    "    x_test = reduce_dim(x_test, dims, method)\n",
    "    max_val = np.max(x_train)\n",
    "    y_test = np.concatenate([np.full(testSize,0), np.full(testSize,1),\n",
    "              np.full(testSize,2),np.full(testSize,3),np.full(testSize,4),\n",
    "              np.full(testSize,5),np.full(testSize,6),np.full(testSize,7),\n",
    "              np.full(testSize,8),np.full(testSize,9),np.full(testSize,10),\n",
    "              np.full(testSize,11),np.full(testSize,12),np.full(testSize,13),np.full(testSize,14)]).reshape(15*testSize,)\n",
    "    return x_train/max_val, y_train, x_test/max_val, y_test"
   ]
  },
  {
   "cell_type": "code",
   "execution_count": null,
   "id": "704ba3eb",
   "metadata": {},
   "outputs": [],
   "source": []
  },
  {
   "cell_type": "code",
   "execution_count": 185,
   "id": "dfe38018",
   "metadata": {},
   "outputs": [],
   "source": [
    "num1 = 14\n",
    "num2 = 7\n",
    "n_neighbors = 5\n",
    "clusters = 2"
   ]
  },
  {
   "cell_type": "code",
   "execution_count": 189,
   "id": "7f3389bb",
   "metadata": {},
   "outputs": [
    {
     "name": "stdout",
     "output_type": "stream",
     "text": [
      "0.6388888888888888\n"
     ]
    }
   ],
   "source": [
    "trainX, trainY, testX, testY = output_data(num1,num2,clusters)\n",
    "model = KNNclassifier(trainX, trainY, n_neighbors)\n",
    "accu = getAccuracy(testX, testY, model)\n",
    "print(accu)"
   ]
  },
  {
   "cell_type": "code",
   "execution_count": 190,
   "id": "62490f7d",
   "metadata": {},
   "outputs": [
    {
     "data": {
      "image/png": "[encoded data removed]",
      "text/plain": [
       "<Figure size 432x288 with 2 Axes>"
      ]
     },
     "metadata": {
      "needs_background": "light"
     },
     "output_type": "display_data"
    }
   ],
   "source": [
    "predY = model.predict(testX)\n",
    "labels = [1,-1]\n",
    "display_labels = [num1,num2]\n",
    "cm = confusion_matrix(testY, predY, labels=labels)\n",
    "disp = ConfusionMatrixDisplay(cm, display_labels=display_labels)\n",
    "disp.plot()\n",
    "plt.show()"
   ]
  },
  {
   "cell_type": "code",
   "execution_count": null,
   "id": "cca88073",
   "metadata": {},
   "outputs": [],
   "source": []
  },
  {
   "cell_type": "code",
   "execution_count": 211,
   "id": "c64d7ba7",
   "metadata": {},
   "outputs": [
    {
     "name": "stdout",
     "output_type": "stream",
     "text": [
      "Shape of data with label 0 : (39, 605, 700)\n",
      "Shape of data with label 5 : (23, 605, 700)\n",
      "Shape of data with label 7 : (67, 605, 700)\n",
      "Shape of data with label 8 : (23, 605, 700)\n",
      "Shape of data with label 13 : (61, 605, 700)\n",
      "Shape of data with label 14 : (100, 605, 700)\n"
     ]
    }
   ],
   "source": [
    "classes = {j:[] for j in range(15)}\n",
    "\n",
    "for j in range(len(y)): # takes data assigns it into a dictionary\n",
    "    classes[int(y[j])].append(X[j].reshape(605,700))\n",
    "#classes = {j:np.stack(classes[j]) for j in range(15)} # stack everything to be one numpy array\n",
    "classes = {j:np.stack(classes[j]) for j in [0,5,7,8,13,14]}\n",
    "#for j in range(15):\n",
    "for j in [0,5,7,8,13,14]:\n",
    "    print('Shape of data with label', j, ':', classes[j].shape)"
   ]
  },
  {
   "cell_type": "code",
   "execution_count": 226,
   "id": "1334adad",
   "metadata": {},
   "outputs": [],
   "source": [
    "def output_data6(num1, num2, dims, method='kmeans', size=22, split=0.7):\n",
    "    # gathers training and testing data for num1 & num2 type data\n",
    "    trainSize = int(size * split)\n",
    "    testSize = size - trainSize\n",
    "    x_train = np.concatenate([classes[num1][:trainSize].reshape(trainSize,605*700),\n",
    "                            classes[num2][:trainSize].reshape(trainSize,605*700)])\n",
    "    x_train = reduce_dim(x_train, dims, method)\n",
    "    y_train = np.concatenate([np.ones(trainSize), -1*np.ones(trainSize)]).reshape(2*trainSize,)\n",
    "    x_test = np.concatenate([classes[num1][trainSize:size].reshape(testSize,605*700),\n",
    "                            classes[num2][trainSize:size].reshape(testSize,605*700)])\n",
    "    x_test = reduce_dim(x_test, dims, method)\n",
    "    max_val = np.max(x_train)\n",
    "    y_test = np.concatenate([np.ones(testSize), -1*np.ones(testSize)]).reshape(2*testSize,)\n",
    "    return x_train/max_val, y_train, x_test/max_val, y_test"
   ]
  },
  {
   "cell_type": "code",
   "execution_count": 236,
   "id": "bd106b31",
   "metadata": {},
   "outputs": [],
   "source": [
    "def output_all_data6(dims, method='kmeans', size=22, split=0.7):\n",
    "    # gathers training and testing data for num1 & num2 type data\n",
    "    trainSize = int(size * split)\n",
    "    testSize = size - trainSize\n",
    "    x_train = np.zeros((6*trainSize,605*700))\n",
    "    ii=0\n",
    "    for i in [0,5,7,8,13,14]:\n",
    "        i_classes = classes[i][:trainSize].reshape(trainSize,605*700)\n",
    "        x_train[trainSize*ii:trainSize*(ii+1)] = i_classes\n",
    "        ii = ii+1\n",
    "    x_train = reduce_dim(x_train, dims, method)\n",
    "    y_train = np.concatenate([np.full(trainSize,0), np.full(trainSize,1),\n",
    "              np.full(trainSize,2),np.full(trainSize,3),np.full(trainSize,4),\n",
    "              np.full(trainSize,5)]).reshape(6*trainSize,)\n",
    "    x_test = np.zeros((6*testSize,605*700))\n",
    "    ii=0\n",
    "    for i in [0,5,7,8,13,14]:\n",
    "        i_classes = classes[i][trainSize:size].reshape(testSize,605*700)\n",
    "        x_test[testSize*ii:testSize*(ii+1)] = i_classes\n",
    "        ii = ii+1\n",
    "    x_test = reduce_dim(x_test, dims, method)\n",
    "    max_val = np.max(x_train)\n",
    "    y_test = np.concatenate([np.full(testSize,0), np.full(testSize,1),\n",
    "              np.full(testSize,2),np.full(testSize,3),np.full(testSize,4),\n",
    "              np.full(testSize,5)]).reshape(6*testSize,)\n",
    "    return x_train/max_val, y_train, x_test/max_val, y_test"
   ]
  },
  {
   "cell_type": "code",
   "execution_count": 241,
   "id": "d1f2ba15",
   "metadata": {},
   "outputs": [
    {
     "name": "stdout",
     "output_type": "stream",
     "text": [
      "0.23809523809523808\n"
     ]
    }
   ],
   "source": [
    "class1=14\n",
    "class2=7\n",
    "dims = 6\n",
    "trainX, trainY, testX, testY = output_all_data6(dims)\n",
    "model = KNNclassifier(trainX, trainY, n_neighbors)\n",
    "accu = getAccuracy(testX, testY, model)\n",
    "accu_vals.append(accu)\n",
    "print(accu)"
   ]
  },
  {
   "cell_type": "code",
   "execution_count": null,
   "id": "defda86f",
   "metadata": {},
   "outputs": [],
   "source": []
  },
  {
   "cell_type": "code",
   "execution_count": null,
   "id": "1e7214e3",
   "metadata": {},
   "outputs": [],
   "source": []
  },
  {
   "cell_type": "code",
   "execution_count": 191,
   "id": "976442c0",
   "metadata": {},
   "outputs": [
    {
     "data": {
      "text/plain": [
       "[<matplotlib.lines.Line2D at 0x133f50af0>]"
      ]
     },
     "execution_count": 191,
     "metadata": {},
     "output_type": "execute_result"
    },
    {
     "data": {
      "image/png": "[encoded data removed]",
      "text/plain": [
       "<Figure size 432x288 with 1 Axes>"
      ]
     },
     "metadata": {
      "needs_background": "light"
     },
     "output_type": "display_data"
    }
   ],
   "source": [
    "class1 = 14\n",
    "class2 = 7\n",
    "dim_vals = np.arange(1,20,1)\n",
    "accu_vals = []\n",
    "for i in dim_vals:\n",
    "    dims = i\n",
    "    trainX, trainY, testX, testY = output_data(class1,class2,dims)\n",
    "    model = KNNclassifier(trainX, trainY, n_neighbors)\n",
    "    accu = getAccuracy(testX, testY, model)\n",
    "    accu_vals.append(accu)\n",
    "plt.plot(dim_vals, accu_vals)"
   ]
  },
  {
   "cell_type": "code",
   "execution_count": null,
   "id": "5f3b6b5a",
   "metadata": {},
   "outputs": [],
   "source": []
  },
  {
   "cell_type": "code",
   "execution_count": 242,
   "id": "d7ded120",
   "metadata": {},
   "outputs": [
    {
     "data": {
      "text/plain": [
       "[<matplotlib.lines.Line2D at 0x135213820>]"
      ]
     },
     "execution_count": 242,
     "metadata": {},
     "output_type": "execute_result"
    },
    {
     "data": {
      "image/png": "[encoded data removed]",
      "text/plain": [
       "<Figure size 432x288 with 1 Axes>"
      ]
     },
     "metadata": {
      "needs_background": "light"
     },
     "output_type": "display_data"
    }
   ],
   "source": [
    "dim_vals = np.arange(1,10,1)\n",
    "accu_vals = []\n",
    "for i in dim_vals:\n",
    "    dims = i\n",
    "    trainX, trainY, testX, testY = output_all_data6(dims)\n",
    "    model = KNNclassifier(trainX, trainY, n_neighbors)\n",
    "    accu = getAccuracy(testX, testY, model)\n",
    "    accu_vals.append(accu)\n",
    "plt.plot(dim_vals, accu_vals)"
   ]
  },
  {
   "cell_type": "code",
   "execution_count": 244,
   "id": "0b2b9cc0",
   "metadata": {},
   "outputs": [
    {
     "name": "stdout",
     "output_type": "stream",
     "text": [
      "0.16666666666666666\n"
     ]
    }
   ],
   "source": [
    "n_neighbors = 5\n",
    "dims = 6\n",
    "trainX, trainY, testX, testY = output_all_data6(dims, method='none')\n",
    "model = KNNclassifier(trainX, trainY, n_neighbors)\n",
    "accu = getAccuracy(testX, testY, model)\n",
    "print(accu)"
   ]
  },
  {
   "cell_type": "code",
   "execution_count": 246,
   "id": "3e8c068e",
   "metadata": {},
   "outputs": [
    {
     "data": {
      "image/png": "[encoded data removed]",
      "text/plain": [
       "<Figure size 432x288 with 2 Axes>"
      ]
     },
     "metadata": {
      "needs_background": "light"
     },
     "output_type": "display_data"
    }
   ],
   "source": [
    "predY = model.predict(testX)\n",
    "labels = np.arange(0,7,1)\n",
    "cm = confusion_matrix(testY, predY, labels=labels)\n",
    "disp = ConfusionMatrixDisplay(cm, display_labels=labels)\n",
    "disp.plot()\n",
    "plt.show()"
   ]
  },
  {
   "cell_type": "markdown",
   "id": "daff5e6d",
   "metadata": {},
   "source": [
    "## PCA for Retinal Scans"
   ]
  },
  {
   "cell_type": "code",
   "execution_count": 8,
   "id": "8b47788a",
   "metadata": {},
   "outputs": [
    {
     "name": "stdout",
     "output_type": "stream",
     "text": [
      "Shape of data with label 0 : (39, 605, 700)\n",
      "Shape of data with label 1 : (5, 605, 700)\n",
      "Shape of data with label 2 : (7, 605, 700)\n",
      "Shape of data with label 3 : (6, 605, 700)\n",
      "Shape of data with label 4 : (11, 605, 700)\n",
      "Shape of data with label 5 : (23, 605, 700)\n",
      "Shape of data with label 6 : (12, 605, 700)\n",
      "Shape of data with label 7 : (67, 605, 700)\n",
      "Shape of data with label 8 : (23, 605, 700)\n",
      "Shape of data with label 9 : (5, 605, 700)\n",
      "Shape of data with label 10 : (16, 605, 700)\n",
      "Shape of data with label 11 : (14, 605, 700)\n",
      "Shape of data with label 12 : (8, 605, 700)\n",
      "Shape of data with label 13 : (61, 605, 700)\n",
      "Shape of data with label 14 : (100, 605, 700)\n"
     ]
    }
   ],
   "source": [
    "classes = {j:[] for j in range(15)}\n",
    "\n",
    "for j in range(len(y)): # takes data assigns it into a dictionary\n",
    "    classes[int(y[j])].append(X[j].reshape(605,700))\n",
    "classes = {j:np.stack(classes[j]) for j in range(15)} # stack everything to be one numpy array\n",
    "#classes = {j:np.stack(classes[j]) for j in [0,5,7,8,13,14]}\n",
    "for j in range(15):\n",
    "#for j in [0,5,7,8,13,14]:\n",
    "    print('Shape of data with label', j, ':', classes[j].shape)"
   ]
  },
  {
   "cell_type": "code",
   "execution_count": 14,
   "id": "99711a6b",
   "metadata": {},
   "outputs": [],
   "source": [
    "# add size parameter?\n",
    "def output_pca_data(num1, num2, num_components, size=50, split=0.7, method='pca', kernel='linear'):\n",
    "    # gathers training and testing data for num1 & num2 type data\n",
    "    trainSize = int(size * split)\n",
    "    testSize = size - trainSize\n",
    "    x_train = np.concatenate([classes[num1][:trainSize].reshape(trainSize,605*700),\n",
    "                            classes[num2][:trainSize].reshape(trainSize,605*700)])\n",
    "    evr = 0\n",
    "    if method=='pca':\n",
    "        pca = PCA(num_components).fit(x_train)\n",
    "        evr = np.sum(pca.explained_variance_ratio_)\n",
    "    elif method=='kernelpca':\n",
    "        pca = KernelPCA(num_components, kernel=kernel).fit(x_train)\n",
    "    x_train = pca.transform(x_train)\n",
    "    y_train = np.concatenate([np.ones(trainSize), -1*np.ones(trainSize)]).reshape(2*trainSize,)\n",
    "    x_test = np.concatenate([classes[num1][trainSize:size].reshape(testSize,605*700),\n",
    "                            classes[num2][trainSize:size].reshape(testSize,605*700)])\n",
    "    x_test = pca.transform(x_test)\n",
    "    max_val = np.max(x_train)\n",
    "    y_test = np.concatenate([np.ones(testSize), -1*np.ones(testSize)]).reshape(2*testSize,)\n",
    "    return x_train/max_val, evr, y_train, x_test/max_val, y_test"
   ]
  },
  {
   "cell_type": "code",
   "execution_count": 39,
   "id": "d8d105c1",
   "metadata": {},
   "outputs": [],
   "source": [
    "def output_all_data_pca(num_components, method='pca', kernel='linear', size=50, split=0.7):\n",
    "    pca1evr = False\n",
    "    trainSize = int(size * split)\n",
    "    testSize = size - trainSize\n",
    "    x_train = np.zeros((15*trainSize,605*700))\n",
    "    for i in range(15):\n",
    "        i_classes = classes[i][:trainSize].reshape(trainSize,605*700)\n",
    "        x_train[trainSize*i:trainSize*(i+1)] = i_classes\n",
    "    evr = 0\n",
    "    if method=='pca':\n",
    "        pca = PCA(num_components).fit(x_train)\n",
    "        evr = np.sum(pca.explained_variance_ratio_)\n",
    "    elif method=='kernelpca':\n",
    "        pca = KernelPCA(num_components, kernel=kernel).fit(x_train)\n",
    "    x_train = pca.transform(x_train)\n",
    "    y_train = np.concatenate([np.full(trainSize,0), np.full(trainSize,1),\n",
    "              np.full(trainSize,2),np.full(trainSize,3),np.full(trainSize,4),\n",
    "              np.full(trainSize,5),np.full(trainSize,6),np.full(trainSize,7),\n",
    "              np.full(trainSize,8),np.full(trainSize,9),np.full(trainSize,10),np.full(trainSize,11),np.full(trainSize,12),np.full(trainSize,13),np.full(trainSize,14)]).reshape(15*trainSize,)\n",
    "    x_test = np.zeros((15*testSize,605*700))\n",
    "    for i in range(15):\n",
    "        i_classes = classes[i][trainSize:size].reshape(testSize,605*700)\n",
    "        x_test[testSize*i:testSize*(i+1)] = i_classes\n",
    "    x_test = pca.transform(x_test)\n",
    "    max_val = np.max(x_train)\n",
    "    y_test = np.concatenate([np.full(testSize,0), np.full(testSize,1),\n",
    "              np.full(testSize,2),np.full(testSize,3),np.full(testSize,4),\n",
    "              np.full(testSize,5),np.full(testSize,6),np.full(testSize,7),\n",
    "              np.full(testSize,8),np.full(testSize,9),np.full(testSize,10),np.full(testSize,11),np.full(testSize,12),np.full(testSize,13),np.full(testSize,14)]).reshape(15*testSize,)\n",
    "    return x_train/max_val, evr, y_train, x_test/max_val, y_test"
   ]
  },
  {
   "cell_type": "code",
   "execution_count": 35,
   "id": "17f30c1b",
   "metadata": {},
   "outputs": [],
   "source": [
    "num1 = 14\n",
    "num2 = 7\n",
    "n_neighbors = 5\n",
    "num_components = 4"
   ]
  },
  {
   "cell_type": "code",
   "execution_count": 36,
   "id": "000bb8da",
   "metadata": {},
   "outputs": [
    {
     "name": "stdout",
     "output_type": "stream",
     "text": [
      "Accuracy: \n",
      "0.6666666666666666\n"
     ]
    }
   ],
   "source": [
    "trainX, evr1, trainY, testX, testY = output_pca_data(num1,num2,num_components,method='pca',size=60,split=0.7)\n",
    "model = KNNclassifier(trainX, trainY, n_neighbors)\n",
    "accu = getAccuracy(testX, testY, model)\n",
    "print(\"Accuracy: \")\n",
    "print(accu)"
   ]
  },
  {
   "cell_type": "code",
   "execution_count": null,
   "id": "9b8d20c5",
   "metadata": {},
   "outputs": [],
   "source": []
  },
  {
   "cell_type": "code",
   "execution_count": 38,
   "id": "422f82f0",
   "metadata": {},
   "outputs": [
    {
     "name": "stdout",
     "output_type": "stream",
     "text": [
      "Shape of data with label 0 : (39, 605, 700)\n",
      "Shape of data with label 5 : (23, 605, 700)\n",
      "Shape of data with label 7 : (67, 605, 700)\n",
      "Shape of data with label 8 : (23, 605, 700)\n",
      "Shape of data with label 13 : (61, 605, 700)\n",
      "Shape of data with label 14 : (100, 605, 700)\n"
     ]
    }
   ],
   "source": [
    "classes = {j:[] for j in range(15)}\n",
    "\n",
    "for j in range(len(y)): # takes data assigns it into a dictionary\n",
    "    classes[int(y[j])].append(X[j].reshape(605,700))\n",
    "#classes = {j:np.stack(classes[j]) for j in range(15)} # stack everything to be one numpy array\n",
    "classes = {j:np.stack(classes[j]) for j in [0,5,7,8,13,14]}\n",
    "#for j in range(15):\n",
    "for j in [0,5,7,8,13,14]:\n",
    "    print('Shape of data with label', j, ':', classes[j].shape)"
   ]
  },
  {
   "cell_type": "code",
   "execution_count": 40,
   "id": "ec4637dc",
   "metadata": {},
   "outputs": [],
   "source": [
    "def output_all_data_pca_6(num_components, method='pca', kernel='linear', size=22, split=0.7):\n",
    "    pca1evr = False\n",
    "    trainSize = int(size * split)\n",
    "    testSize = size - trainSize\n",
    "    x_train = np.zeros((6*trainSize,605*700))\n",
    "    ii = 0\n",
    "    for i in [0,5,7,8,13,14]:\n",
    "        i_classes = classes[i][:trainSize].reshape(trainSize,605*700)\n",
    "        x_train[trainSize*ii:trainSize*(ii+1)] = i_classes\n",
    "        ii = ii +1\n",
    "    evr = 0\n",
    "    if method=='pca':\n",
    "        pca = PCA(num_components).fit(x_train)\n",
    "        evr = np.sum(pca.explained_variance_ratio_)\n",
    "    elif method=='kernelpca':\n",
    "        pca = KernelPCA(num_components, kernel=kernel).fit(x_train)\n",
    "    x_train = pca.transform(x_train)\n",
    "    y_train = np.concatenate([np.full(trainSize,0), np.full(trainSize,1),\n",
    "              np.full(trainSize,2),np.full(trainSize,3),np.full(trainSize,4),\n",
    "              np.full(trainSize,5)]).reshape(6*trainSize,)\n",
    "    x_test = np.zeros((6*testSize,605*700))\n",
    "    ii=0\n",
    "    for i in [0,5,7,8,13,14]:\n",
    "        i_classes = classes[i][trainSize:size].reshape(testSize,605*700)\n",
    "        x_test[testSize*ii:testSize*(ii+1)] = i_classes\n",
    "        ii = ii+1\n",
    "    x_test = pca.transform(x_test)\n",
    "    max_val = np.max(x_train)\n",
    "    y_test = np.concatenate([np.full(testSize,0), np.full(testSize,1),\n",
    "              np.full(testSize,2),np.full(testSize,3),np.full(testSize,4),\n",
    "              np.full(testSize,5)]).reshape(6*testSize,)\n",
    "    return x_train/max_val, evr, y_train, x_test/max_val, y_test"
   ]
  },
  {
   "cell_type": "code",
   "execution_count": 41,
   "id": "d0eb9eae",
   "metadata": {},
   "outputs": [
    {
     "data": {
      "image/png": "[encoded data removed]",
      "text/plain": [
       "<Figure size 432x288 with 1 Axes>"
      ]
     },
     "metadata": {
      "needs_background": "light"
     },
     "output_type": "display_data"
    }
   ],
   "source": [
    "n_neighbors = 5\n",
    "comps = np.arange(1,20,1)\n",
    "evr_vals = []\n",
    "accu_vals = []\n",
    "for i in comps:\n",
    "    num_components = i\n",
    "    trainX, evr1, trainY, testX, testY = output_pca_data(num1,num2,num_components)\n",
    "    model = KNNclassifier(trainX, trainY, n_neighbors)\n",
    "    accu = getAccuracy(testX, testY, model)\n",
    "    evr_vals.append(evr1)\n",
    "    accu_vals.append(accu)\n",
    "plt.plot(comps, evr_vals, comps, accu_vals)\n",
    "plt.title(\"Two digit classification with PCA\")\n",
    "plt.legend([\"Explained Variance Ratio\", \"Accuracy\"])\n",
    "plt.xlabel('Number of principal components')\n",
    "plt.show()"
   ]
  },
  {
   "cell_type": "code",
   "execution_count": 44,
   "id": "f667f5ea",
   "metadata": {},
   "outputs": [
    {
     "data": {
      "image/png": "[encoded data removed]",
      "text/plain": [
       "<Figure size 432x288 with 1 Axes>"
      ]
     },
     "metadata": {
      "needs_background": "light"
     },
     "output_type": "display_data"
    }
   ],
   "source": [
    "n_neighbors = 5\n",
    "comps = np.arange(1,20,1)\n",
    "evr_vals = []\n",
    "accu_vals = []\n",
    "for i in comps:\n",
    "    num_components = i\n",
    "    trainX, evr1, trainY, testX, testY = output_all_data_pca_6(num_components)\n",
    "    model = KNNclassifier(trainX, trainY, n_neighbors)\n",
    "    accu = getAccuracy(testX, testY, model)\n",
    "    evr_vals.append(evr1)\n",
    "    accu_vals.append(accu)\n",
    "plt.plot(comps, evr_vals, comps, accu_vals)\n",
    "plt.title(\"6 digit classification with PCA\")\n",
    "plt.legend([\"Explained Variance Ratio\", \"Accuracy\"])\n",
    "plt.xlabel('Number of principal components')\n",
    "plt.show()"
   ]
  },
  {
   "cell_type": "code",
   "execution_count": 43,
   "id": "2fe283c1",
   "metadata": {},
   "outputs": [
    {
     "data": {
      "image/png": "[encoded data removed]",
      "text/plain": [
       "<Figure size 432x288 with 2 Axes>"
      ]
     },
     "metadata": {
      "needs_background": "light"
     },
     "output_type": "display_data"
    }
   ],
   "source": [
    "predY = model.predict(testX)\n",
    "labels = np.arange(0,7,1)\n",
    "cm = confusion_matrix(testY, predY, labels=labels)\n",
    "disp = ConfusionMatrixDisplay(cm, display_labels=labels)\n",
    "disp.plot()\n",
    "plt.show()"
   ]
  },
  {
   "cell_type": "code",
   "execution_count": null,
   "id": "75706e3a",
   "metadata": {},
   "outputs": [],
   "source": []
  }
 ],
 "metadata": {
  "kernelspec": {
   "display_name": "Python 3 (ipykernel)",
   "language": "python",
   "name": "python3"
  },
  "language_info": {
   "codemirror_mode": {
    "name": "ipython",
    "version": 3
   },
   "file_extension": ".py",
   "mimetype": "text/x-python",
   "name": "python",
   "nbconvert_exporter": "python",
   "pygments_lexer": "ipython3",
   "version": "3.9.13"
  }
 },
 "nbformat": 4,
 "nbformat_minor": 5
}
